{
 "cells": [
  {
   "cell_type": "code",
   "execution_count": 1,
   "metadata": {},
   "outputs": [],
   "source": [
    "# Library Import\n",
    "\n",
    "import pandas as pd \n",
    "import numpy as np\n",
    "import matplotlib.pyplot as plt"
   ]
  },
  {
   "cell_type": "code",
   "execution_count": 2,
   "metadata": {},
   "outputs": [
    {
     "name": "stdout",
     "output_type": "stream",
     "text": [
      "         Date       Price\n",
      "0  2017-05-19  934.010010\n",
      "1  2017-05-22  941.859985\n",
      "2  2017-05-23  948.820007\n",
      "3  2017-05-24  954.960022\n",
      "4  2017-05-25  969.539978\n",
      "(252, 2)\n"
     ]
    }
   ],
   "source": [
    "google = pd.read_csv(\"Goog.csv\", usecols = [0,5], names = ['Date', 'Price'], sep=\",\", header = 0)\n",
    "\n",
    "print(google.head())\n",
    "print(google.shape)"
   ]
  },
  {
   "cell_type": "code",
   "execution_count": 3,
   "metadata": {},
   "outputs": [
    {
     "name": "stdout",
     "output_type": "stream",
     "text": [
      "         Date        Price\n",
      "0  2017-05-19  6083.700195\n",
      "1  2017-05-22  6133.620117\n",
      "2  2017-05-23  6138.709961\n",
      "3  2017-05-24  6163.020020\n",
      "4  2017-05-25  6205.259766\n",
      "(252, 2)\n"
     ]
    }
   ],
   "source": [
    "nasdaq = pd.read_csv(\"Nasdaq.csv\", usecols = [0,5], names = ['Date', 'Price'], sep=\",\", header = 0)\n",
    "print(nasdaq.head())\n",
    "print(nasdaq.shape)"
   ]
  },
  {
   "cell_type": "code",
   "execution_count": 4,
   "metadata": {},
   "outputs": [],
   "source": [
    "# Need to do new price - old price, ie row 2 - row 1 etc\n",
    "\n",
    "google_returns = (np.array(google[\"Price\"][0:-1], np.float) / np.array(google[\"Price\"][1:], np.float)) - 1\n",
    "nasdaq_returns = (np.array(nasdaq[\"Price\"][0:-1], np.float) / np.array(nasdaq[\"Price\"][1:], np.float)) - 1"
   ]
  },
  {
   "cell_type": "code",
   "execution_count": 5,
   "metadata": {},
   "outputs": [
    {
     "data": {
      "text/plain": [
       "(251,)"
      ]
     },
     "execution_count": 5,
     "metadata": {},
     "output_type": "execute_result"
    }
   ],
   "source": [
    "google_returns.shape"
   ]
  },
  {
   "cell_type": "code",
   "execution_count": 6,
   "metadata": {},
   "outputs": [
    {
     "data": {
      "text/html": [
       "<div>\n",
       "<style scoped>\n",
       "    .dataframe tbody tr th:only-of-type {\n",
       "        vertical-align: middle;\n",
       "    }\n",
       "\n",
       "    .dataframe tbody tr th {\n",
       "        vertical-align: top;\n",
       "    }\n",
       "\n",
       "    .dataframe thead th {\n",
       "        text-align: right;\n",
       "    }\n",
       "</style>\n",
       "<table border=\"1\" class=\"dataframe\">\n",
       "  <thead>\n",
       "    <tr style=\"text-align: right;\">\n",
       "      <th></th>\n",
       "      <th>Date</th>\n",
       "      <th>Price</th>\n",
       "      <th>Returns</th>\n",
       "    </tr>\n",
       "  </thead>\n",
       "  <tbody>\n",
       "    <tr>\n",
       "      <th>247</th>\n",
       "      <td>2018-05-14</td>\n",
       "      <td>1100.199951</td>\n",
       "      <td>0.019430</td>\n",
       "    </tr>\n",
       "    <tr>\n",
       "      <th>248</th>\n",
       "      <td>2018-05-15</td>\n",
       "      <td>1079.229980</td>\n",
       "      <td>-0.002348</td>\n",
       "    </tr>\n",
       "    <tr>\n",
       "      <th>249</th>\n",
       "      <td>2018-05-16</td>\n",
       "      <td>1081.770020</td>\n",
       "      <td>0.002948</td>\n",
       "    </tr>\n",
       "    <tr>\n",
       "      <th>250</th>\n",
       "      <td>2018-05-17</td>\n",
       "      <td>1078.589966</td>\n",
       "      <td>0.011469</td>\n",
       "    </tr>\n",
       "    <tr>\n",
       "      <th>251</th>\n",
       "      <td>2018-05-18</td>\n",
       "      <td>1066.359985</td>\n",
       "      <td>NaN</td>\n",
       "    </tr>\n",
       "  </tbody>\n",
       "</table>\n",
       "</div>"
      ],
      "text/plain": [
       "           Date        Price   Returns\n",
       "247  2018-05-14  1100.199951  0.019430\n",
       "248  2018-05-15  1079.229980 -0.002348\n",
       "249  2018-05-16  1081.770020  0.002948\n",
       "250  2018-05-17  1078.589966  0.011469\n",
       "251  2018-05-18  1066.359985       NaN"
      ]
     },
     "execution_count": 6,
     "metadata": {},
     "output_type": "execute_result"
    }
   ],
   "source": [
    "# Put this new price into the datasets\n",
    "\n",
    "google[\"Returns\"] = np.append(google_returns, np.nan)\n",
    "nasdaq[\"Returns\"] = np.append(nasdaq_returns, np.nan)\n",
    "\n",
    "google.tail()"
   ]
  },
  {
   "cell_type": "code",
   "execution_count": 7,
   "metadata": {},
   "outputs": [
    {
     "data": {
      "text/plain": [
       "(251, 2)"
      ]
     },
     "execution_count": 7,
     "metadata": {},
     "output_type": "execute_result"
    }
   ],
   "source": [
    "# Now pull in the treasury bond data\n",
    "\n",
    "tbond = pd.read_csv(\"TBOND.csv\", header = 0, usecols = [0, 5], names = ['Date', 'Price'], sep = \",\")\n",
    "tbond.shape"
   ]
  },
  {
   "cell_type": "code",
   "execution_count": 8,
   "metadata": {},
   "outputs": [
    {
     "data": {
      "text/plain": [
       "(251, 3)"
      ]
     },
     "execution_count": 8,
     "metadata": {},
     "output_type": "execute_result"
    }
   ],
   "source": [
    "# Then calculate the risk free rate of return\n",
    "\n",
    "tbond[\"Returns\"] = tbond[\"Price\"] / 100\n",
    "tbond.shape"
   ]
  },
  {
   "cell_type": "code",
   "execution_count": 9,
   "metadata": {},
   "outputs": [],
   "source": [
    "google.index = google[\"Date\"]\n",
    "nasdaq.index = nasdaq[\"Date\"]\n",
    "tbond.index = tbond[\"Date\"]"
   ]
  },
  {
   "cell_type": "code",
   "execution_count": 10,
   "metadata": {},
   "outputs": [],
   "source": [
    "# Remove the last row as it is not applicable (null value as need new data - old data)\n",
    "google_test = google[\"Returns\"][0:-1]\n",
    "nasdaq_test = nasdaq[\"Returns\"][0:-1]\n",
    "tbond_test = tbond[\"Returns\"]"
   ]
  },
  {
   "cell_type": "code",
   "execution_count": 11,
   "metadata": {},
   "outputs": [
    {
     "name": "stdout",
     "output_type": "stream",
     "text": [
      "(251,) (251,) (251,)\n"
     ]
    }
   ],
   "source": [
    "print(google_test.shape, nasdaq_test.shape, tbond_test.shape)"
   ]
  },
  {
   "cell_type": "code",
   "execution_count": 12,
   "metadata": {},
   "outputs": [],
   "source": [
    "google_fix = (google_test - tbond_test).dropna()\n",
    "\n",
    "nasdaq_fix = (nasdaq_test - tbond_test).dropna()"
   ]
  },
  {
   "cell_type": "code",
   "execution_count": 13,
   "metadata": {},
   "outputs": [],
   "source": [
    "# Import in the regression pack from sklearn\n",
    "\n",
    "from sklearn.linear_model import SGDRegressor,LinearRegression"
   ]
  },
  {
   "cell_type": "code",
   "execution_count": 14,
   "metadata": {},
   "outputs": [
    {
     "data": {
      "text/plain": [
       "SGDRegressor(alpha=0.0001, average=False, epsilon=0.1, eta0=0.1,\n",
       "       fit_intercept=False, l1_ratio=0.15, learning_rate='invscaling',\n",
       "       loss='squared_loss', max_iter=100000, n_iter=None, penalty='l2',\n",
       "       power_t=0.25, random_state=None, shuffle=True, tol=None, verbose=0,\n",
       "       warm_start=False)"
      ]
     },
     "execution_count": 14,
     "metadata": {},
     "output_type": "execute_result"
    }
   ],
   "source": [
    "# Use the SGD Regression model to find a coefficient for the linear regression fit\n",
    "\n",
    "regression = SGDRegressor(eta0=0.1,max_iter=100000,fit_intercept=False)\n",
    "\n",
    "regression.fit((nasdaq_fix).values.reshape(-1,1), (google_fix))"
   ]
  },
  {
   "cell_type": "code",
   "execution_count": 15,
   "metadata": {},
   "outputs": [
    {
     "data": {
      "text/plain": [
       "array([0.88637645])"
      ]
     },
     "execution_count": 15,
     "metadata": {},
     "output_type": "execute_result"
    }
   ],
   "source": [
    "# Show the computed regression coefficient\n",
    "\n",
    "regression.coef_\n",
    "\n",
    "line = regression.coef_\n",
    "\n",
    "line"
   ]
  },
  {
   "cell_type": "code",
   "execution_count": 16,
   "metadata": {},
   "outputs": [
    {
     "data": {
      "text/plain": [
       "[]"
      ]
     },
     "execution_count": 16,
     "metadata": {},
     "output_type": "execute_result"
    },
    {
     "data": {
      "image/png": "[encoded data removed]",
      "text/plain": [
       "<Figure size 432x288 with 1 Axes>"
      ]
     },
     "metadata": {},
     "output_type": "display_data"
    }
   ],
   "source": [
    "# Plot the data!\n",
    "\n",
    "plt.plot(nasdaq_fix, google_fix, 'go')\n",
    "\n",
    "x = nasdaq_fix\n",
    "y = google_fix\n",
    "\n",
    "plt.plot()"
   ]
  }
 ],
 "metadata": {
  "kernelspec": {
   "display_name": "Python 3",
   "language": "python",
   "name": "python3"
  },
  "language_info": {
   "codemirror_mode": {
    "name": "ipython",
    "version": 3
   },
   "file_extension": ".py",
   "mimetype": "text/x-python",
   "name": "python",
   "nbconvert_exporter": "python",
   "pygments_lexer": "ipython3",
   "version": "3.6.4"
  }
 },
 "nbformat": 4,
 "nbformat_minor": 1
}
